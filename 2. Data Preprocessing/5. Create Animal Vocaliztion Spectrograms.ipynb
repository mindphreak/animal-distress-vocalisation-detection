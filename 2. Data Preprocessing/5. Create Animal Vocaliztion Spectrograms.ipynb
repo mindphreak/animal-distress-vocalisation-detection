{
 "cells": [
  {
   "cell_type": "code",
   "execution_count": 1,
   "metadata": {},
   "outputs": [],
   "source": [
    "import os\n",
    "import numpy as np\n",
    "import librosa\n",
    "import librosa.display\n",
    "import tensorflow as tf\n",
    "from tensorflow import keras\n",
    "import matplotlib.pyplot as plt\n",
    "import pandas as pd\n",
    "import soundfile as sf"
   ]
  },
  {
   "cell_type": "code",
   "execution_count": 2,
   "metadata": {},
   "outputs": [],
   "source": [
    "ABS_PATH = os.path.abspath(os.path.join('D:', '/Data Playground/Academics/Research Project'))\n",
    "ground_truth = pd.read_csv(ABS_PATH+'/FSD50K/FSD50K.ground_truth/eval.csv')"
   ]
  },
  {
   "cell_type": "code",
   "execution_count": 3,
   "metadata": {},
   "outputs": [
    {
     "data": {
      "text/html": [
       "<div>\n",
       "<style scoped>\n",
       "    .dataframe tbody tr th:only-of-type {\n",
       "        vertical-align: middle;\n",
       "    }\n",
       "\n",
       "    .dataframe tbody tr th {\n",
       "        vertical-align: top;\n",
       "    }\n",
       "\n",
       "    .dataframe thead th {\n",
       "        text-align: right;\n",
       "    }\n",
       "</style>\n",
       "<table border=\"1\" class=\"dataframe\">\n",
       "  <thead>\n",
       "    <tr style=\"text-align: right;\">\n",
       "      <th></th>\n",
       "      <th>fname</th>\n",
       "      <th>grouped_labels</th>\n",
       "      <th>mids</th>\n",
       "      <th>split</th>\n",
       "      <th>labels</th>\n",
       "    </tr>\n",
       "  </thead>\n",
       "  <tbody>\n",
       "    <tr>\n",
       "      <th>0</th>\n",
       "      <td>64760</td>\n",
       "      <td>Electric_guitar,Guitar,Plucked_string_instrume...</td>\n",
       "      <td>/m/02sgy,/m/0342h,/m/0fx80y,/m/04szw,/m/04rlf</td>\n",
       "      <td>train</td>\n",
       "      <td>False</td>\n",
       "    </tr>\n",
       "    <tr>\n",
       "      <th>1</th>\n",
       "      <td>16399</td>\n",
       "      <td>Electric_guitar,Guitar,Plucked_string_instrume...</td>\n",
       "      <td>/m/02sgy,/m/0342h,/m/0fx80y,/m/04szw,/m/04rlf</td>\n",
       "      <td>train</td>\n",
       "      <td>False</td>\n",
       "    </tr>\n",
       "    <tr>\n",
       "      <th>2</th>\n",
       "      <td>16401</td>\n",
       "      <td>Electric_guitar,Guitar,Plucked_string_instrume...</td>\n",
       "      <td>/m/02sgy,/m/0342h,/m/0fx80y,/m/04szw,/m/04rlf</td>\n",
       "      <td>train</td>\n",
       "      <td>False</td>\n",
       "    </tr>\n",
       "    <tr>\n",
       "      <th>3</th>\n",
       "      <td>16402</td>\n",
       "      <td>Electric_guitar,Guitar,Plucked_string_instrume...</td>\n",
       "      <td>/m/02sgy,/m/0342h,/m/0fx80y,/m/04szw,/m/04rlf</td>\n",
       "      <td>train</td>\n",
       "      <td>False</td>\n",
       "    </tr>\n",
       "    <tr>\n",
       "      <th>4</th>\n",
       "      <td>16404</td>\n",
       "      <td>Electric_guitar,Guitar,Plucked_string_instrume...</td>\n",
       "      <td>/m/02sgy,/m/0342h,/m/0fx80y,/m/04szw,/m/04rlf</td>\n",
       "      <td>train</td>\n",
       "      <td>False</td>\n",
       "    </tr>\n",
       "    <tr>\n",
       "      <th>...</th>\n",
       "      <td>...</td>\n",
       "      <td>...</td>\n",
       "      <td>...</td>\n",
       "      <td>...</td>\n",
       "      <td>...</td>\n",
       "    </tr>\n",
       "    <tr>\n",
       "      <th>40961</th>\n",
       "      <td>102863</td>\n",
       "      <td>Fowl,Livestock_and_farm_animals_and_working_an...</td>\n",
       "      <td>/m/025rv6n,/m/0ch8v,/m/0jbk</td>\n",
       "      <td>train</td>\n",
       "      <td>True</td>\n",
       "    </tr>\n",
       "    <tr>\n",
       "      <th>40962</th>\n",
       "      <td>389607</td>\n",
       "      <td>Fowl,Livestock_and_farm_animals_and_working_an...</td>\n",
       "      <td>/m/025rv6n,/m/0ch8v,/m/0jbk</td>\n",
       "      <td>train</td>\n",
       "      <td>True</td>\n",
       "    </tr>\n",
       "    <tr>\n",
       "      <th>40963</th>\n",
       "      <td>90091</td>\n",
       "      <td>Fowl,Livestock_and_farm_animals_and_working_an...</td>\n",
       "      <td>/m/025rv6n,/m/0ch8v,/m/0jbk</td>\n",
       "      <td>train</td>\n",
       "      <td>True</td>\n",
       "    </tr>\n",
       "    <tr>\n",
       "      <th>40964</th>\n",
       "      <td>244718</td>\n",
       "      <td>Fowl,Livestock_and_farm_animals_and_working_an...</td>\n",
       "      <td>/m/025rv6n,/m/0ch8v,/m/0jbk</td>\n",
       "      <td>train</td>\n",
       "      <td>True</td>\n",
       "    </tr>\n",
       "    <tr>\n",
       "      <th>40965</th>\n",
       "      <td>24061</td>\n",
       "      <td>Fowl,Livestock_and_farm_animals_and_working_an...</td>\n",
       "      <td>/m/025rv6n,/m/0ch8v,/m/0jbk</td>\n",
       "      <td>train</td>\n",
       "      <td>True</td>\n",
       "    </tr>\n",
       "  </tbody>\n",
       "</table>\n",
       "<p>40966 rows × 5 columns</p>\n",
       "</div>"
      ],
      "text/plain": [
       "        fname                                     grouped_labels  \\\n",
       "0       64760  Electric_guitar,Guitar,Plucked_string_instrume...   \n",
       "1       16399  Electric_guitar,Guitar,Plucked_string_instrume...   \n",
       "2       16401  Electric_guitar,Guitar,Plucked_string_instrume...   \n",
       "3       16402  Electric_guitar,Guitar,Plucked_string_instrume...   \n",
       "4       16404  Electric_guitar,Guitar,Plucked_string_instrume...   \n",
       "...       ...                                                ...   \n",
       "40961  102863  Fowl,Livestock_and_farm_animals_and_working_an...   \n",
       "40962  389607  Fowl,Livestock_and_farm_animals_and_working_an...   \n",
       "40963   90091  Fowl,Livestock_and_farm_animals_and_working_an...   \n",
       "40964  244718  Fowl,Livestock_and_farm_animals_and_working_an...   \n",
       "40965   24061  Fowl,Livestock_and_farm_animals_and_working_an...   \n",
       "\n",
       "                                                mids  split  labels  \n",
       "0      /m/02sgy,/m/0342h,/m/0fx80y,/m/04szw,/m/04rlf  train   False  \n",
       "1      /m/02sgy,/m/0342h,/m/0fx80y,/m/04szw,/m/04rlf  train   False  \n",
       "2      /m/02sgy,/m/0342h,/m/0fx80y,/m/04szw,/m/04rlf  train   False  \n",
       "3      /m/02sgy,/m/0342h,/m/0fx80y,/m/04szw,/m/04rlf  train   False  \n",
       "4      /m/02sgy,/m/0342h,/m/0fx80y,/m/04szw,/m/04rlf  train   False  \n",
       "...                                              ...    ...     ...  \n",
       "40961                    /m/025rv6n,/m/0ch8v,/m/0jbk  train    True  \n",
       "40962                    /m/025rv6n,/m/0ch8v,/m/0jbk  train    True  \n",
       "40963                    /m/025rv6n,/m/0ch8v,/m/0jbk  train    True  \n",
       "40964                    /m/025rv6n,/m/0ch8v,/m/0jbk  train    True  \n",
       "40965                    /m/025rv6n,/m/0ch8v,/m/0jbk  train    True  \n",
       "\n",
       "[40966 rows x 5 columns]"
      ]
     },
     "execution_count": 3,
     "metadata": {},
     "output_type": "execute_result"
    }
   ],
   "source": [
    "# label animal labels to True and the rest to False\n",
    "\n",
    "animal_labels = {'Bark', 'Animal', 'Cat', 'Dog', 'pets', 'Purr',\n",
    "                 'wild', 'domestic_animals', 'farm_animals', 'Meow', 'working_animals', 'livestock' }\n",
    "pattern = '|'.join(animal_labels)\n",
    "\n",
    "    \n",
    "value = ground_truth.labels.str.contains(pattern)\n",
    "value\n",
    "new_GT = pd.merge(ground_truth, value, right_index=True, left_index=True)\n",
    "new_GT.columns = ['fname', 'grouped_labels', 'mids', 'split', 'labels']\n",
    "new_GT"
   ]
  },
  {
   "cell_type": "code",
   "execution_count": 4,
   "metadata": {},
   "outputs": [
    {
     "data": {
      "text/plain": [
       "labels\n",
       "False    37691\n",
       "True      3275\n",
       "dtype: int64"
      ]
     },
     "execution_count": 4,
     "metadata": {},
     "output_type": "execute_result"
    }
   ],
   "source": [
    "new_GT.groupby(['labels']).size()"
   ]
  },
  {
   "cell_type": "code",
   "execution_count": 5,
   "metadata": {},
   "outputs": [],
   "source": [
    "DATA_PATH = ABS_PATH + '/FSD50K/FSD50K.dev_audio/'\n",
    "SAMPLE_RATE = 44100\n",
    "EVAL_DATA_PATH = ABS_PATH + '/FSD50K/FSD50K.eval_audio/'"
   ]
  },
  {
   "cell_type": "code",
   "execution_count": 6,
   "metadata": {},
   "outputs": [],
   "source": [
    "os.makedirs(ABS_PATH+'/SplitAudio/test/Animals')\n",
    "os.makedirs(ABS_PATH+'/SplitAudio/train/Animals')\n"
   ]
  },
  {
   "cell_type": "code",
   "execution_count": 6,
   "metadata": {},
   "outputs": [],
   "source": [
    "TRAIN_PATH = ABS_PATH + '/SplitAudio/train/'\n",
    "TEST_PATH = ABS_PATH + '/SplitAudio/test/'\n",
    "CLIP_LEN = 3\n",
    "a_len = 44100 * CLIP_LEN"
   ]
  },
  {
   "cell_type": "code",
   "execution_count": 7,
   "metadata": {},
   "outputs": [],
   "source": [
    "def slice_data(start, end, raw_data,  sample_rate):\n",
    "    max_ind = len(raw_data) \n",
    "    start_ind = min(int(start * sample_rate), max_ind)\n",
    "    end_ind = min(int(end * sample_rate), max_ind)\n",
    "    return raw_data[start_ind: end_ind]\n"
   ]
  },
  {
   "cell_type": "code",
   "execution_count": 9,
   "metadata": {},
   "outputs": [],
   "source": [
    "for i, (dirpath, dirnames,  filenames) in enumerate(os.walk(EVAL_DATA_PATH)):\n",
    "    #For each file in directory\n",
    "    for f in filenames:\n",
    "        file_path = os.path.join(dirpath, f)\n",
    "        signal, sr = librosa.load(file_path, sr=SAMPLE_RATE)\n",
    "        duration = librosa.get_duration(y=signal, sr=SAMPLE_RATE)\n",
    "        start = 0\n",
    "        end = CLIP_LEN\n",
    "        file_identifier = 0\n",
    "        #Removing too small & too large files        \n",
    "        if(duration<=30 and duration>=3):\n",
    "            file_name = f.replace(\".wav\", \"\")\n",
    "            #Locating meta data\n",
    "            row_focus = new_GT.loc[new_GT['fname'] == int(file_name)]\n",
    "            is_animal = row_focus.iloc[0]['labels']\n",
    "            #Creating and storing 3s clippings\n",
    "            if is_animal:\n",
    "                while end<duration:\n",
    "                    sliced_data = slice_data(start=start, end=end, raw_data=signal, sample_rate=44100)\n",
    "                    start = end\n",
    "                    end = end + CLIP_LEN  \n",
    "                    save_location = TRAIN_PATH + 'Animals/' + file_name + str(file_identifier) +'.wav'\n",
    "                    sf.write(file=save_location, data=sliced_data, samplerate=SAMPLE_RATE)\n",
    "                    file_identifier = file_identifier + 1\n",
    "            #Adding silence padding to the shorter final clipping\n",
    "#             if (duration-end) >= (CLIP_LEN/2):\n",
    "#                 end = duration\n",
    "#                 sliced_data = slice_data(start=start, end=end, raw_data=signal, sample_rate=44100)\n",
    "#                 padded_data = librosa.util.pad_center(sliced_data, a_len)\n",
    "#                 store_wav(padded_data, is_train, is_distressed, file_name, file_identifier)        \n",
    "            \n",
    "\n",
    "            "
   ]
  },
  {
   "cell_type": "code",
   "execution_count": 10,
   "metadata": {},
   "outputs": [],
   "source": [
    "os.makedirs(ABS_PATH+'/MelSpectrograms/test/Animals')"
   ]
  },
  {
   "cell_type": "code",
   "execution_count": 11,
   "metadata": {},
   "outputs": [],
   "source": [
    "def save_mel_spectrogram(cmap_type, path, class_path, save_loc):\n",
    "        for i, (dirpath, dirnames,  filenames) in enumerate(os.walk(path + '/' + class_path)):\n",
    "            for f in filenames:\n",
    "                file_path = os.path.join(dirpath, f)\n",
    "                signal, sr = librosa.load(file_path, sr=SAMPLE_RATE)\n",
    "                duration = librosa.get_duration(y=signal, sr=SAMPLE_RATE)\n",
    "                if duration == CLIP_LEN:\n",
    "                    plt.figure(figsize=(10,3))\n",
    "                    stft = librosa.stft(signal)\n",
    "                    log_spectrogram = librosa.amplitude_to_db(abs(stft))\n",
    "                    librosa.display.specshow(log_spectrogram, sr=SAMPLE_RATE, cmap=cmap_type, x_axis='time', y_axis='hz')\n",
    "                    plt.ylim(0, 10000)\n",
    "                    file_name = f.replace(\".wav\", \"\")\n",
    "                    plt.savefig(save_loc + file_name + '.png')\n",
    "                    plt.clf()\n",
    "                    plt.close(plt.gcf())"
   ]
  },
  {
   "cell_type": "code",
   "execution_count": 12,
   "metadata": {},
   "outputs": [],
   "source": [
    "save_mel_spectrogram(cmap_type = 'magma', path = TEST_PATH, class_path='Animals', save_loc=ABS_PATH+'/MelSpectrograms/test/Animals/')"
   ]
  },
  {
   "cell_type": "code",
   "execution_count": 13,
   "metadata": {},
   "outputs": [
    {
     "data": {
      "text/plain": [
       "1176390"
      ]
     },
     "execution_count": 13,
     "metadata": {},
     "output_type": "execute_result"
    }
   ],
   "source": [
    "import gc\n",
    "gc.collect()"
   ]
  }
 ],
 "metadata": {
  "kernelspec": {
   "display_name": "Python 3",
   "language": "python",
   "name": "python3"
  },
  "language_info": {
   "codemirror_mode": {
    "name": "ipython",
    "version": 3
   },
   "file_extension": ".py",
   "mimetype": "text/x-python",
   "name": "python",
   "nbconvert_exporter": "python",
   "pygments_lexer": "ipython3",
   "version": "3.8.3"
  }
 },
 "nbformat": 4,
 "nbformat_minor": 4
}
